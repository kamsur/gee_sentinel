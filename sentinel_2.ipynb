{
 "cells": [
  {
   "cell_type": "code",
   "execution_count": 2,
   "metadata": {},
   "outputs": [],
   "source": [
    "import ee\n",
    "import numpy as np\n",
    "import matplotlib.pyplot as plt"
   ]
  },
  {
   "cell_type": "code",
   "execution_count": null,
   "metadata": {},
   "outputs": [],
   "source": [
    "# Authenticate and initialize Earth Engine\n",
    "ee.Authenticate()\n",
    "ee.Initialize()"
   ]
  },
  {
   "cell_type": "code",
   "execution_count": 4,
   "metadata": {},
   "outputs": [],
   "source": [
    "def dms_to_decimal(degrees, minutes, seconds, direction):\n",
    "    dd = degrees + (minutes / 60.0) + (seconds / 3600.0)\n",
    "    if direction in ['S', 'W']:  # South and West are negative\n",
    "        dd *= -1\n",
    "    return dd"
   ]
  },
  {
   "cell_type": "code",
   "execution_count": null,
   "metadata": {},
   "outputs": [],
   "source": [
    "# Example DMS coordinates of the four corners (Replace with actual values)\n",
    "corners_dms = [\n",
    "    ((37, 39.267, 0), (119, 41.152, 0), 'N', 'E'),  # Top-left\n",
    "    ((37, 39.266, 0), (119, 40.350, 0), 'N', 'E'), # Top-right\n",
    "    ((37, 38.564, 0), (119, 40.349, 0), 'N', 'E'), # Bottom-right\n",
    "    ((37, 38.565, 0), (119, 41.158, 0), 'N', 'E')   # Bottom-left\n",
    "]\n",
    "\n",
    "# Convert DMS to Decimal Degrees\n",
    "corner_points = [\n",
    "    [dms_to_decimal(*lat_dms, lat_dir), dms_to_decimal(*lon_dms, lon_dir)]\n",
    "    for (lat_dms, lon_dms, lat_dir, lon_dir) in corners_dms\n",
    "]\n",
    "\n",
    "# Ensure polygon closes by repeating the first point at the end\n",
    "corner_points.append(corner_points[0])"
   ]
  },
  {
   "cell_type": "code",
   "execution_count": null,
   "metadata": {},
   "outputs": [],
   "source": [
    "# Define Area of Interest (AOI)\n",
    "aoi = ee.Geometry.Point([corner_points[0][1], corner_points[0][0]]).buffer(1000).bounds()\n",
    "\n",
    "# Load Sentinel-2 imagery (replace with actual time period)\n",
    "sentinel2_image = ee.ImageCollection(\"COPERNICUS/S2\") \\\n",
    "    .filterBounds(aoi) \\\n",
    "    .filterDate('2024-12-25', '2024-12-27') \\\n",
    "    .median()  # Taking median composite over the time period\n",
    "\n",
    "# Select Bands 3 (Green) and 4 (Red)\n",
    "green_band = sentinel2_image.select('B3')  # Green band (560 nm)\n",
    "red_band = sentinel2_image.select('B4')    # Red band (665 nm)\n",
    "\n",
    "# Calculate Chlorophyll Index (CI)\n",
    "chlorophyll_index = green_band.subtract(red_band).divide(green_band.add(red_band))\n",
    "\n",
    "# Visualize Chlorophyll Index\n",
    "chlorophyll_index_vis = chlorophyll_index.clip(aoi)\n",
    "chlorophyll_index_map = chlorophyll_index_vis.getMapId()\n",
    "\n"
   ]
  },
  {
   "cell_type": "code",
   "execution_count": 12,
   "metadata": {},
   "outputs": [
    {
     "ename": "KeyError",
     "evalue": "'tileUrl'",
     "output_type": "error",
     "traceback": [
      "\u001b[1;31m---------------------------------------------------------------------------\u001b[0m",
      "\u001b[1;31mKeyError\u001b[0m                                  Traceback (most recent call last)",
      "Cell \u001b[1;32mIn[12], line 15\u001b[0m\n\u001b[0;32m     12\u001b[0m \u001b[38;5;66;03m# Create a folium map to display the result\u001b[39;00m\n\u001b[0;32m     13\u001b[0m my_map \u001b[38;5;241m=\u001b[39m folium\u001b[38;5;241m.\u001b[39mMap(location\u001b[38;5;241m=\u001b[39m[corner_points[\u001b[38;5;241m0\u001b[39m][\u001b[38;5;241m0\u001b[39m], corner_points[\u001b[38;5;241m0\u001b[39m][\u001b[38;5;241m1\u001b[39m]], zoom_start\u001b[38;5;241m=\u001b[39m\u001b[38;5;241m12\u001b[39m)\n\u001b[0;32m     14\u001b[0m folium\u001b[38;5;241m.\u001b[39mTileLayer(\n\u001b[1;32m---> 15\u001b[0m     tiles\u001b[38;5;241m=\u001b[39m\u001b[43mmap_id\u001b[49m\u001b[43m[\u001b[49m\u001b[38;5;124;43m'\u001b[39;49m\u001b[38;5;124;43mtileUrl\u001b[39;49m\u001b[38;5;124;43m'\u001b[39;49m\u001b[43m]\u001b[49m,\n\u001b[0;32m     16\u001b[0m     attr\u001b[38;5;241m=\u001b[39m\u001b[38;5;124m'\u001b[39m\u001b[38;5;124mGoogle Earth Engine\u001b[39m\u001b[38;5;124m'\u001b[39m,\n\u001b[0;32m     17\u001b[0m     overlay\u001b[38;5;241m=\u001b[39m\u001b[38;5;28;01mTrue\u001b[39;00m,\n\u001b[0;32m     18\u001b[0m     control\u001b[38;5;241m=\u001b[39m\u001b[38;5;28;01mTrue\u001b[39;00m\n\u001b[0;32m     19\u001b[0m )\u001b[38;5;241m.\u001b[39madd_to(my_map)\n\u001b[0;32m     21\u001b[0m \u001b[38;5;66;03m# Display the map\u001b[39;00m\n\u001b[0;32m     22\u001b[0m my_map\n",
      "\u001b[1;31mKeyError\u001b[0m: 'tileUrl'"
     ]
    }
   ],
   "source": [
    "import folium\n",
    "# Define visualization parameters\n",
    "vis_params = {\n",
    "    'min': -0.5,\n",
    "    'max': 0.5,\n",
    "    'palette': ['blue', 'green', 'yellow', 'red']\n",
    "}\n",
    "\n",
    "# Get map visualization ID and token for Chlorophyll Index (CI)\n",
    "map_id = chlorophyll_index.getMapId(vis_params)\n",
    "\n",
    "# Create a folium map to display the result\n",
    "my_map = folium.Map(location=[corner_points[0][0], corner_points[0][1]], zoom_start=12)\n",
    "folium.TileLayer(\n",
    "    tiles=map_id['tileUrl'],\n",
    "    attr='Google Earth Engine',\n",
    "    overlay=True,\n",
    "    control=True\n",
    ").add_to(my_map)\n",
    "\n",
    "# Display the map\n",
    "my_map"
   ]
  }
 ],
 "metadata": {
  "kernelspec": {
   "display_name": "Python 3",
   "language": "python",
   "name": "python3"
  },
  "language_info": {
   "codemirror_mode": {
    "name": "ipython",
    "version": 3
   },
   "file_extension": ".py",
   "mimetype": "text/x-python",
   "name": "python",
   "nbconvert_exporter": "python",
   "pygments_lexer": "ipython3",
   "version": "3.10.11"
  }
 },
 "nbformat": 4,
 "nbformat_minor": 2
}
